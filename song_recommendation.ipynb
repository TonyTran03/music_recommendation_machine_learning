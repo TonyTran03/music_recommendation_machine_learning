{
 "cells": [
  {
   "cell_type": "code",
   "execution_count": 2,
   "metadata": {},
   "outputs": [],
   "source": [
    "import pandas as pd"
   ]
  },
  {
   "cell_type": "code",
   "execution_count": null,
   "metadata": {},
   "outputs": [],
   "source": [
    "df = pd.read_csv(\"spotify_millsongdata.csv\")\n",
    "df.drop('link', axis=1)\n",
    "df.head(10)"
   ]
  },
  {
   "cell_type": "code",
   "execution_count": 17,
   "metadata": {},
   "outputs": [],
   "source": [
    "df = df.sample(5000)"
   ]
  },
  {
   "cell_type": "markdown",
   "metadata": {},
   "source": [
    "Text Cleaning/ Text preprocessing "
   ]
  },
  {
   "cell_type": "code",
   "execution_count": 25,
   "metadata": {},
   "outputs": [
    {
     "data": {
      "text/plain": [
       "0        look at her face, it's a wonderful face  \\r an...\n",
       "1        take it easy with me, please  \\r touch me gent...\n",
       "2        i'll never know why i had to go  \\r why i had ...\n",
       "3        making somebody happy is a question of give an...\n",
       "4        making somebody happy is a question of give an...\n",
       "                               ...                        \n",
       "57645    irie days come on play  \\r let the angels fly ...\n",
       "57646    power to the workers  \\r more power  \\r power ...\n",
       "57647    all you need  \\r is something i'll believe  \\r...\n",
       "57648    northern star  \\r am i frightened  \\r where ca...\n",
       "57649    come in  \\r make yourself at home  \\r i'm a bi...\n",
       "Name: text, Length: 57650, dtype: object"
      ]
     },
     "execution_count": 25,
     "metadata": {},
     "output_type": "execute_result"
    }
   ],
   "source": [
    "df['text'].str.lower().replace(r'^\\w\\s', ' ', regex = True).replace(r'\\n', ' ', regex=True )"
   ]
  }
 ],
 "metadata": {
  "kernelspec": {
   "display_name": "Python 3",
   "language": "python",
   "name": "python3"
  },
  "language_info": {
   "codemirror_mode": {
    "name": "ipython",
    "version": 3
   },
   "file_extension": ".py",
   "mimetype": "text/x-python",
   "name": "python",
   "nbconvert_exporter": "python",
   "pygments_lexer": "ipython3",
   "version": "3.11.3"
  }
 },
 "nbformat": 4,
 "nbformat_minor": 2
}
